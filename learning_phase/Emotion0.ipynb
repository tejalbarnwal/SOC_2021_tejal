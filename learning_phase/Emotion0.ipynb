{
  "nbformat": 4,
  "nbformat_minor": 0,
  "metadata": {
    "colab": {
      "name": "Emotion0.ipynb",
      "provenance": [],
      "collapsed_sections": []
    },
    "kernelspec": {
      "name": "python3",
      "display_name": "Python 3"
    },
    "language_info": {
      "name": "python"
    },
    "accelerator": "GPU"
  },
  "cells": [
    {
      "cell_type": "code",
      "metadata": {
        "colab": {
          "base_uri": "https://localhost:8080/"
        },
        "id": "fczGoWTtC2CM",
        "outputId": "37b19810-2d8c-4900-cc4a-6f18a1e77254"
      },
      "source": [
        "from google.colab import drive\n",
        "drive.mount (\"/content/drive\")"
      ],
      "execution_count": 1,
      "outputs": [
        {
          "output_type": "stream",
          "text": [
            "Drive already mounted at /content/drive; to attempt to forcibly remount, call drive.mount(\"/content/drive\", force_remount=True).\n"
          ],
          "name": "stdout"
        }
      ]
    },
    {
      "cell_type": "code",
      "metadata": {
        "id": "aW28MDkTC9su"
      },
      "source": [
        "# import zipfile\n",
        "# import os\n",
        "\n",
        "# zip_ref = zipfile.ZipFile(\"/content/drive/MyDrive/emotion/challenge.zip\" , \"r\")\n",
        "# zip_ref.extractall(\"/content/drive/MyDrive/emotion/datasets\")\n",
        "# zip_ref.close()"
      ],
      "execution_count": 2,
      "outputs": []
    },
    {
      "cell_type": "code",
      "metadata": {
        "id": "x4ptifQsD2y2"
      },
      "source": [
        "# zip_ref2 = zipfile.ZipFile(\"/content/drive/MyDrive/emotion/datasets/fer2013/tar\" , \"r\")"
      ],
      "execution_count": 3,
      "outputs": []
    },
    {
      "cell_type": "code",
      "metadata": {
        "colab": {
          "base_uri": "https://localhost:8080/",
          "height": 35
        },
        "id": "EPPRokPXGZM4",
        "outputId": "7837298c-f3c7-43b2-c9cf-11fbc5cfc131"
      },
      "source": [
        "pwd"
      ],
      "execution_count": 4,
      "outputs": [
        {
          "output_type": "execute_result",
          "data": {
            "application/vnd.google.colaboratory.intrinsic+json": {
              "type": "string"
            },
            "text/plain": [
              "'/content'"
            ]
          },
          "metadata": {
            "tags": []
          },
          "execution_count": 4
        }
      ]
    },
    {
      "cell_type": "code",
      "metadata": {
        "colab": {
          "base_uri": "https://localhost:8080/"
        },
        "id": "vGzPbTsfGmpw",
        "outputId": "601c6202-d6b7-4ca4-ae27-fdbb39923f9a"
      },
      "source": [
        "cd /content/drive/MyDrive/emotion/datasets"
      ],
      "execution_count": 5,
      "outputs": [
        {
          "output_type": "stream",
          "text": [
            "/content/drive/MyDrive/emotion/datasets\n"
          ],
          "name": "stdout"
        }
      ]
    },
    {
      "cell_type": "code",
      "metadata": {
        "colab": {
          "base_uri": "https://localhost:8080/",
          "height": 35
        },
        "id": "OLINcfeNGuOG",
        "outputId": "5bab3015-7d34-40e8-b2f5-f2645774279d"
      },
      "source": [
        "pwd\n"
      ],
      "execution_count": 6,
      "outputs": [
        {
          "output_type": "execute_result",
          "data": {
            "application/vnd.google.colaboratory.intrinsic+json": {
              "type": "string"
            },
            "text/plain": [
              "'/content/drive/MyDrive/emotion/datasets'"
            ]
          },
          "metadata": {
            "tags": []
          },
          "execution_count": 6
        }
      ]
    },
    {
      "cell_type": "code",
      "metadata": {
        "colab": {
          "base_uri": "https://localhost:8080/"
        },
        "id": "wL1I9Cq0GvOF",
        "outputId": "36540beb-5098-4b6e-8f6c-d6f7b4b1a5af"
      },
      "source": [
        "# load csv using pandas\n",
        "import pandas\n",
        "\n",
        "filename =\"/content/drive/MyDrive/emotion/datasets/train.csv\"\n",
        "names = [\"label\" , \"img_string\"]\n",
        "data = pandas.read_csv(filename)\n",
        "print(data.shape)\n",
        "\n",
        "# filename2 =\"/content/drive/MyDrive/emotion/datasets/test.csv\"\n",
        "# test = pandas.read_csv(filename2)\n",
        "# print(test.shape)"
      ],
      "execution_count": 7,
      "outputs": [
        {
          "output_type": "stream",
          "text": [
            "(28709, 2)\n"
          ],
          "name": "stdout"
        }
      ]
    },
    {
      "cell_type": "code",
      "metadata": {
        "colab": {
          "base_uri": "https://localhost:8080/",
          "height": 204
        },
        "id": "fXoykum1HieQ",
        "outputId": "a66de75f-041b-4db9-e5bf-9b0ef25649c5"
      },
      "source": [
        "data.head()"
      ],
      "execution_count": 8,
      "outputs": [
        {
          "output_type": "execute_result",
          "data": {
            "text/html": [
              "<div>\n",
              "<style scoped>\n",
              "    .dataframe tbody tr th:only-of-type {\n",
              "        vertical-align: middle;\n",
              "    }\n",
              "\n",
              "    .dataframe tbody tr th {\n",
              "        vertical-align: top;\n",
              "    }\n",
              "\n",
              "    .dataframe thead th {\n",
              "        text-align: right;\n",
              "    }\n",
              "</style>\n",
              "<table border=\"1\" class=\"dataframe\">\n",
              "  <thead>\n",
              "    <tr style=\"text-align: right;\">\n",
              "      <th></th>\n",
              "      <th>emotion</th>\n",
              "      <th>pixels</th>\n",
              "    </tr>\n",
              "  </thead>\n",
              "  <tbody>\n",
              "    <tr>\n",
              "      <th>0</th>\n",
              "      <td>0</td>\n",
              "      <td>70 80 82 72 58 58 60 63 54 58 60 48 89 115 121...</td>\n",
              "    </tr>\n",
              "    <tr>\n",
              "      <th>1</th>\n",
              "      <td>0</td>\n",
              "      <td>151 150 147 155 148 133 111 140 170 174 182 15...</td>\n",
              "    </tr>\n",
              "    <tr>\n",
              "      <th>2</th>\n",
              "      <td>2</td>\n",
              "      <td>231 212 156 164 174 138 161 173 182 200 106 38...</td>\n",
              "    </tr>\n",
              "    <tr>\n",
              "      <th>3</th>\n",
              "      <td>4</td>\n",
              "      <td>24 32 36 30 32 23 19 20 30 41 21 22 32 34 21 1...</td>\n",
              "    </tr>\n",
              "    <tr>\n",
              "      <th>4</th>\n",
              "      <td>6</td>\n",
              "      <td>4 0 0 0 0 0 0 0 0 0 0 0 3 15 23 28 48 50 58 84...</td>\n",
              "    </tr>\n",
              "  </tbody>\n",
              "</table>\n",
              "</div>"
            ],
            "text/plain": [
              "   emotion                                             pixels\n",
              "0        0  70 80 82 72 58 58 60 63 54 58 60 48 89 115 121...\n",
              "1        0  151 150 147 155 148 133 111 140 170 174 182 15...\n",
              "2        2  231 212 156 164 174 138 161 173 182 200 106 38...\n",
              "3        4  24 32 36 30 32 23 19 20 30 41 21 22 32 34 21 1...\n",
              "4        6  4 0 0 0 0 0 0 0 0 0 0 0 3 15 23 28 48 50 58 84..."
            ]
          },
          "metadata": {
            "tags": []
          },
          "execution_count": 8
        }
      ]
    },
    {
      "cell_type": "code",
      "metadata": {
        "id": "Q-_Bo1feJMLW"
      },
      "source": [
        "#test.dtypes"
      ],
      "execution_count": 10,
      "outputs": []
    },
    {
      "cell_type": "code",
      "metadata": {
        "id": "jqqK2l1uYR3j"
      },
      "source": [
        "dataset_array = data.to_numpy()\n",
        "\n",
        "# test_array = test.to_numpy()"
      ],
      "execution_count": 11,
      "outputs": []
    },
    {
      "cell_type": "code",
      "metadata": {
        "id": "9z5o4DLFYc8I"
      },
      "source": [
        "#test_array.shape"
      ],
      "execution_count": 12,
      "outputs": []
    },
    {
      "cell_type": "code",
      "metadata": {
        "id": "rK4obz_VYgav"
      },
      "source": [
        "dataset_labels = dataset_array[:,0].astype(int)"
      ],
      "execution_count": 13,
      "outputs": []
    },
    {
      "cell_type": "code",
      "metadata": {
        "colab": {
          "base_uri": "https://localhost:8080/"
        },
        "id": "TAlUW3RIaW9c",
        "outputId": "0084a512-7989-4f02-e11b-ab07eab164ef"
      },
      "source": [
        "dataset_labels"
      ],
      "execution_count": 14,
      "outputs": [
        {
          "output_type": "execute_result",
          "data": {
            "text/plain": [
              "array([0, 0, 2, ..., 4, 0, 4])"
            ]
          },
          "metadata": {
            "tags": []
          },
          "execution_count": 14
        }
      ]
    },
    {
      "cell_type": "code",
      "metadata": {
        "id": "lz_779YZbpR5"
      },
      "source": [
        "import numpy as np\n",
        "\n",
        "dataset_img = np.zeros((28709,2304))\n",
        "test_img = np.zeros((7178,2304))\n",
        "\n",
        "for i in range(dataset_array.shape[0]):\n",
        "  dataset_img[i] = dataset_array[i,1].split()\n",
        "\n",
        "# for i in range(test_array.shape[0]):\n",
        "#   test_img[i] = test_array[i,0].split()  "
      ],
      "execution_count": 15,
      "outputs": []
    },
    {
      "cell_type": "code",
      "metadata": {
        "id": "yGawoIy6ajLr"
      },
      "source": [
        "# test_img[0]"
      ],
      "execution_count": 16,
      "outputs": []
    },
    {
      "cell_type": "code",
      "metadata": {
        "colab": {
          "base_uri": "https://localhost:8080/"
        },
        "id": "eeLtjzkBajAo",
        "outputId": "c4f357d7-8b25-4522-b5d0-e05bf0dc5d22"
      },
      "source": [
        "type(dataset_img[0,0])"
      ],
      "execution_count": 17,
      "outputs": [
        {
          "output_type": "execute_result",
          "data": {
            "text/plain": [
              "numpy.float64"
            ]
          },
          "metadata": {
            "tags": []
          },
          "execution_count": 17
        }
      ]
    },
    {
      "cell_type": "code",
      "metadata": {
        "id": "UEU8t5QFJveQ"
      },
      "source": [
        "# data[\"pixels\"] = pandas.to_numeric(data[\"pixels\"] , errors = \"coerce\")\n",
        "# data,dtypes\n",
        "# data.head - outputted all nans :( after to numeric\n"
      ],
      "execution_count": 18,
      "outputs": []
    },
    {
      "cell_type": "code",
      "metadata": {
        "id": "yYBFAYGZNslA"
      },
      "source": [
        "# test_img.shape"
      ],
      "execution_count": 19,
      "outputs": []
    },
    {
      "cell_type": "code",
      "metadata": {
        "id": "XFGYr0f1dxDV"
      },
      "source": [
        "# dataset_img contains images for the model in numpy array\n",
        "# dataset_labels contain label for images from 1 to 6\n",
        "\n",
        "# defining some global stuff\n",
        "num_examples = dataset_array.shape[0]\n",
        "dataset_img = dataset_img.reshape((num_examples , 48 , 48 , 1))\n",
        "\n",
        "# num_test_examples = test_array.shape[0]\n",
        "# test_img = test_img.reshape(( num_test_examples , 48 , 48 , 1))\n"
      ],
      "execution_count": 20,
      "outputs": []
    },
    {
      "cell_type": "code",
      "metadata": {
        "colab": {
          "base_uri": "https://localhost:8080/"
        },
        "id": "X6Eqv9aWeJI1",
        "outputId": "4d25ca5a-f18d-476e-b66c-c9ee0fc739a9"
      },
      "source": [
        "dataset_labels.reshape((num_examples , 1))"
      ],
      "execution_count": 21,
      "outputs": [
        {
          "output_type": "execute_result",
          "data": {
            "text/plain": [
              "array([[0],\n",
              "       [0],\n",
              "       [2],\n",
              "       ...,\n",
              "       [4],\n",
              "       [0],\n",
              "       [4]])"
            ]
          },
          "metadata": {
            "tags": []
          },
          "execution_count": 21
        }
      ]
    },
    {
      "cell_type": "code",
      "metadata": {
        "id": "78uGDi14ozdf"
      },
      "source": [
        "# test_img.shape"
      ],
      "execution_count": 22,
      "outputs": []
    },
    {
      "cell_type": "code",
      "metadata": {
        "id": "OPH7Xzr7e1qr"
      },
      "source": [
        "# creating list of indices to be put in validation set\n",
        "# import random\n",
        "\n",
        "# num_validation = int ( num_examples / 10)\n",
        "# random_list_validation = random.sample(range(1 , num_examples) , num_validation)\n",
        "# creating validation set\n",
        "# validation_img = np.zeros(num_validation , 48 , 48)\n",
        "# validation_labels = np.zeros(num_validation ,1)\n",
        "\n",
        "# for i,j in enumerate(random_list_validation):\n",
        "  # validation_img[i] = dataset_img[j]\n",
        "  # validation_labels[i] = dataset_labels[j]\n",
        "\n",
        "############################rather than following this method it would be better to first shuffle the dataset arrays and then just divide the first 10 to validation set  \n",
        "  "
      ],
      "execution_count": 23,
      "outputs": []
    },
    {
      "cell_type": "code",
      "metadata": {
        "id": "g-YlhAKUgp1K"
      },
      "source": [
        "num_validation = int(num_examples/10)\n",
        "#seed = 2\n",
        "#np.random.seed(seed)\n",
        "#np.random.shuffle(dataset_img)\n",
        "#np.random.seed(seed)\n",
        "#np.random.shuffle(dataset_labels)\n"
      ],
      "execution_count": 24,
      "outputs": []
    },
    {
      "cell_type": "code",
      "metadata": {
        "id": "8udqqFdRlGhs"
      },
      "source": [
        "validation_x = dataset_img[:num_validation]\n",
        "validation_label = dataset_labels[:num_validation]\n",
        "\n",
        "training_x = dataset_img[num_validation:]\n",
        "training_label = dataset_labels[num_validation:]\n",
        "\n",
        "# test_x = test_img"
      ],
      "execution_count": 25,
      "outputs": []
    },
    {
      "cell_type": "code",
      "metadata": {
        "colab": {
          "base_uri": "https://localhost:8080/"
        },
        "id": "pSQHU1RSrIST",
        "outputId": "88ec0121-cd7b-4a69-ebdf-ebb0153ac52d"
      },
      "source": [
        "training_x.shape"
      ],
      "execution_count": 26,
      "outputs": [
        {
          "output_type": "execute_result",
          "data": {
            "text/plain": [
              "(25839, 48, 48, 1)"
            ]
          },
          "metadata": {
            "tags": []
          },
          "execution_count": 26
        }
      ]
    },
    {
      "cell_type": "code",
      "metadata": {
        "colab": {
          "base_uri": "https://localhost:8080/"
        },
        "id": "9t-HE3qwrH_l",
        "outputId": "693d2c38-6555-4692-eb91-a025d3b32cec"
      },
      "source": [
        "validation_x.shape"
      ],
      "execution_count": 27,
      "outputs": [
        {
          "output_type": "execute_result",
          "data": {
            "text/plain": [
              "(2870, 48, 48, 1)"
            ]
          },
          "metadata": {
            "tags": []
          },
          "execution_count": 27
        }
      ]
    },
    {
      "cell_type": "code",
      "metadata": {
        "id": "aZRbsrRIZy3x"
      },
      "source": [
        "# ohc = np.eye(7)"
      ],
      "execution_count": 28,
      "outputs": []
    },
    {
      "cell_type": "code",
      "metadata": {
        "id": "iUgE4ytgZ6L1"
      },
      "source": [
        "# ohc"
      ],
      "execution_count": 29,
      "outputs": []
    },
    {
      "cell_type": "code",
      "metadata": {
        "id": "RrU_EXQMlk3S"
      },
      "source": [
        "one_hot_class = np.array([\n",
        "                  [1 ,0 ,0 ,0 ,0 ,0 ,0],\n",
        "                  [0, 1, 0, 0, 0, 0 ,0],\n",
        "                  [0, 0, 1, 0, 0, 0 ,0],\n",
        "                  [0, 0, 0, 1, 0, 0 ,0],\n",
        "                  [0, 0, 0, 0, 1, 0 ,0],\n",
        "                  [0, 0, 0, 0, 0, 1 ,0],\n",
        "                  [0, 0, 0, 0, 0, 0 ,1]\n",
        "                                    ])\n",
        "validation_y = np.zeros((num_validation ,7))\n",
        "training_y = np.zeros((training_label.shape[0] ,7))"
      ],
      "execution_count": 30,
      "outputs": []
    },
    {
      "cell_type": "code",
      "metadata": {
        "id": "N6jZ4pL_p50f"
      },
      "source": [
        "for i in range(num_validation):\n",
        "  j = validation_label[i]\n",
        "  # print(type(one_hot_class[j]))\n",
        "  validation_y[i] = one_hot_class[j]\n",
        "\n",
        "for i in range(training_label.shape[0]):\n",
        "  j = training_label[i]\n",
        "  training_y[i] = one_hot_class[j]"
      ],
      "execution_count": 31,
      "outputs": []
    },
    {
      "cell_type": "code",
      "metadata": {
        "colab": {
          "base_uri": "https://localhost:8080/"
        },
        "id": "KzgH01NwqBvn",
        "outputId": "7bbf1d7d-2956-49ac-a51a-d7632948da7c"
      },
      "source": [
        "validation_y[0]\n",
        "training_x.shape"
      ],
      "execution_count": 32,
      "outputs": [
        {
          "output_type": "execute_result",
          "data": {
            "text/plain": [
              "(25839, 48, 48, 1)"
            ]
          },
          "metadata": {
            "tags": []
          },
          "execution_count": 32
        }
      ]
    },
    {
      "cell_type": "code",
      "metadata": {
        "colab": {
          "base_uri": "https://localhost:8080/",
          "height": 284
        },
        "id": "hRrZQP1yr9vx",
        "outputId": "b6205edb-a38b-4c84-90a8-b926818d2f73"
      },
      "source": [
        "# show an img\n",
        "import matplotlib.pyplot as plt\n",
        "import matplotlib.image as mpimg\n",
        "index = 5000\n",
        "image = (training_x[index] * 255).reshape(48,48)\n",
        "plt.imshow(image , cmap = \"gray\")\n",
        "plt.show()\n",
        "print(training_y[index])"
      ],
      "execution_count": 33,
      "outputs": [
        {
          "output_type": "display_data",
          "data": {
            "image/png": "[encoded data removed]",
            "text/plain": [
              "<Figure size 432x288 with 1 Axes>"
            ]
          },
          "metadata": {
            "tags": [],
            "needs_background": "light"
          }
        },
        {
          "output_type": "stream",
          "text": [
            "[0. 0. 0. 0. 1. 0. 0.]\n"
          ],
          "name": "stdout"
        }
      ]
    },
    {
      "cell_type": "code",
      "metadata": {
        "colab": {
          "base_uri": "https://localhost:8080/"
        },
        "id": "CSHl_i5nN3qZ",
        "outputId": "e8bce8d4-3a02-46b6-8db8-fcde05ada18b"
      },
      "source": [
        "training_y[0]"
      ],
      "execution_count": 34,
      "outputs": [
        {
          "output_type": "execute_result",
          "data": {
            "text/plain": [
              "array([0., 0., 0., 0., 0., 0., 1.])"
            ]
          },
          "metadata": {
            "tags": []
          },
          "execution_count": 34
        }
      ]
    },
    {
      "cell_type": "code",
      "metadata": {
        "colab": {
          "base_uri": "https://localhost:8080/",
          "height": 65
        },
        "id": "m_uTB2pL0OIh",
        "outputId": "cdb52a9b-6235-40a4-cf0f-e5cf746e6bcd"
      },
      "source": [
        "# show an img 2\n",
        "import cv2\n",
        "from google.colab.patches import cv2_imshow\n",
        "\n",
        "image = dataset_img[0].reshape(48,48)\n",
        "cv2_imshow(image)"
      ],
      "execution_count": 35,
      "outputs": [
        {
          "output_type": "display_data",
          "data": {
            "image/png": "[encoded data removed]",
            "text/plain": [
              "<PIL.Image.Image image mode=L size=48x48 at 0x7FBEA83B4450>"
            ]
          },
          "metadata": {
            "tags": []
          }
        }
      ]
    },
    {
      "cell_type": "code",
      "metadata": {
        "colab": {
          "base_uri": "https://localhost:8080/"
        },
        "id": "Lg3igyRa1wnq",
        "outputId": "3b846eb8-8c01-47fc-ed7f-9c37797d7348"
      },
      "source": [
        "print(dataset_labels[1])"
      ],
      "execution_count": 36,
      "outputs": [
        {
          "output_type": "stream",
          "text": [
            "0\n"
          ],
          "name": "stdout"
        }
      ]
    },
    {
      "cell_type": "code",
      "metadata": {
        "id": "vNO4zeeotpto"
      },
      "source": [
        "training_x = training_x.astype(\"float\")/255\n",
        "validation_x = validation_x.astype(\"float\")/255"
      ],
      "execution_count": 37,
      "outputs": []
    },
    {
      "cell_type": "code",
      "metadata": {
        "id": "VbbhGjyGqgCa"
      },
      "source": [
        "# so we have training_x , training_y , validation_x , validation_y now\n",
        "# now we can start defining the model\n",
        "from keras import models\n",
        "from keras import layers\n",
        "\n",
        "# defining a convnet\n",
        "\n",
        "num_filter_1 = 64\n",
        "num_filter_2 = 128\n",
        "num_filter_3 = 256\n",
        "num_filter_4 = 512\n",
        "\n",
        "teju_model = models.Sequential()\n",
        "\n",
        "teju_model.add(layers.Conv2D(num_filter_1 , (3,3) , activation=\"relu\" , input_shape=(48,48,1)))\n",
        "teju_model.add(layers.MaxPooling2D((2,2)))\n",
        "teju_model.add(layers.Dropout(0.2))\n",
        "\n",
        "###################################################################\n",
        "teju_model.add(layers.BatchNormalization())\n",
        "#teju_model.add(layers.Activation('relu'))\n",
        "\n",
        "teju_model.add(layers.Conv2D(num_filter_2 , (3,3) , activation=\"relu\"))\n",
        "teju_model.add(layers.MaxPooling2D((2,2)))\n",
        "teju_model.add(layers.Dropout(0.5))\n",
        "#####################################################################\n",
        "teju_model.add(layers.BatchNormalization())\n",
        "#teju_model.add(layers.Activation('relu'))\n",
        "\n",
        "teju_model.add(layers.Conv2D(num_filter_3 , (3,3) , activation=\"relu\"))\n",
        "teju_model.add(layers.MaxPooling2D((2,2)))\n",
        "teju_model.add(layers.Dropout(0.5))\n",
        "#######################################################################\n",
        "teju_model.add(layers.BatchNormalization())\n",
        "# teju_model.add(layers.Activation('relu'))\n",
        "\n",
        "teju_model.add(layers.Conv2D(num_filter_4 , (3,3) , activation=\"relu\"))\n",
        "teju_model.add(layers.MaxPooling2D((2,2)))\n",
        "teju_model.add(layers.Dropout(0.5))\n",
        "\n",
        "# teju_model.add(layers.BatchNormalization())\n",
        "# teju_model.add(layers.Activation('relu'))\n",
        "\n"
      ],
      "execution_count": 38,
      "outputs": []
    },
    {
      "cell_type": "code",
      "metadata": {
        "id": "rplxjYuzqn7E"
      },
      "source": [
        "# adding a classifier\n",
        "\n",
        "num_units_1 = 256\n",
        "num_units_2 = 7\n",
        "num_units_3 = 64\n",
        "\n",
        "teju_model.add(layers.Flatten())\n",
        "\n",
        "teju_model.add(layers.BatchNormalization())\n",
        "\n",
        "teju_model.add(layers.Dense( num_units_1 , activation=\"relu\"))\n",
        "teju_model.add(layers.Dropout(0.5))\n",
        "########################################################################\n",
        "\n",
        "teju_model.add(layers.BatchNormalization())\n",
        "# teju_model.add(layers.Activation('relu'))\n",
        "\n",
        "teju_model.add(layers.Dense( num_units_3 , activation=\"relu\"))\n",
        "teju_model.add(layers.Dropout(0.5))\n",
        "\n",
        "#teju_model.add(layers.BatchNormalization())\n",
        "#teju_model.add(layers.Activation('relu'))\n",
        "\n",
        "teju_model.add(layers.Dense( num_units_2 , activation=\"softmax\"))\n",
        "#########################################################################\n",
        "\n",
        "\n"
      ],
      "execution_count": 39,
      "outputs": []
    },
    {
      "cell_type": "code",
      "metadata": {
        "colab": {
          "base_uri": "https://localhost:8080/"
        },
        "id": "pc50eARYtmX1",
        "outputId": "497824a5-7c88-4498-f528-0f41ed1f9b84"
      },
      "source": [
        "teju_model.summary()"
      ],
      "execution_count": 40,
      "outputs": [
        {
          "output_type": "stream",
          "text": [
            "Model: \"sequential\"\n",
            "_________________________________________________________________\n",
            "Layer (type)                 Output Shape              Param #   \n",
            "=================================================================\n",
            "conv2d (Conv2D)              (None, 46, 46, 64)        640       \n",
            "_________________________________________________________________\n",
            "max_pooling2d (MaxPooling2D) (None, 23, 23, 64)        0         \n",
            "_________________________________________________________________\n",
            "dropout (Dropout)            (None, 23, 23, 64)        0         \n",
            "_________________________________________________________________\n",
            "batch_normalization (BatchNo (None, 23, 23, 64)        256       \n",
            "_________________________________________________________________\n",
            "conv2d_1 (Conv2D)            (None, 21, 21, 128)       73856     \n",
            "_________________________________________________________________\n",
            "max_pooling2d_1 (MaxPooling2 (None, 10, 10, 128)       0         \n",
            "_________________________________________________________________\n",
            "dropout_1 (Dropout)          (None, 10, 10, 128)       0         \n",
            "_________________________________________________________________\n",
            "batch_normalization_1 (Batch (None, 10, 10, 128)       512       \n",
            "_________________________________________________________________\n",
            "conv2d_2 (Conv2D)            (None, 8, 8, 256)         295168    \n",
            "_________________________________________________________________\n",
            "max_pooling2d_2 (MaxPooling2 (None, 4, 4, 256)         0         \n",
            "_________________________________________________________________\n",
            "dropout_2 (Dropout)          (None, 4, 4, 256)         0         \n",
            "_________________________________________________________________\n",
            "batch_normalization_2 (Batch (None, 4, 4, 256)         1024      \n",
            "_________________________________________________________________\n",
            "conv2d_3 (Conv2D)            (None, 2, 2, 512)         1180160   \n",
            "_________________________________________________________________\n",
            "max_pooling2d_3 (MaxPooling2 (None, 1, 1, 512)         0         \n",
            "_________________________________________________________________\n",
            "dropout_3 (Dropout)          (None, 1, 1, 512)         0         \n",
            "_________________________________________________________________\n",
            "flatten (Flatten)            (None, 512)               0         \n",
            "_________________________________________________________________\n",
            "batch_normalization_3 (Batch (None, 512)               2048      \n",
            "_________________________________________________________________\n",
            "dense (Dense)                (None, 256)               131328    \n",
            "_________________________________________________________________\n",
            "dropout_4 (Dropout)          (None, 256)               0         \n",
            "_________________________________________________________________\n",
            "batch_normalization_4 (Batch (None, 256)               1024      \n",
            "_________________________________________________________________\n",
            "dense_1 (Dense)              (None, 64)                16448     \n",
            "_________________________________________________________________\n",
            "dropout_5 (Dropout)          (None, 64)                0         \n",
            "_________________________________________________________________\n",
            "dense_2 (Dense)              (None, 7)                 455       \n",
            "=================================================================\n",
            "Total params: 1,702,919\n",
            "Trainable params: 1,700,487\n",
            "Non-trainable params: 2,432\n",
            "_________________________________________________________________\n"
          ],
          "name": "stdout"
        }
      ]
    },
    {
      "cell_type": "markdown",
      "metadata": {
        "id": "6YWLfDhzt9CR"
      },
      "source": [
        " now we have ready trainig_x normalized and trainig_y as one hot encoded"
      ]
    },
    {
      "cell_type": "code",
      "metadata": {
        "id": "HXe4P20XKzrH"
      },
      "source": [
        "from keras import optimizers\n",
        "\n",
        "opt = optimizers.Adam(learning_rate = 0.001)\n",
        "teju_model.compile(optimizer=opt ,loss=\"categorical_crossentropy\", metrics=[\"accuracy\"])"
      ],
      "execution_count": 41,
      "outputs": []
    },
    {
      "cell_type": "code",
      "metadata": {
        "colab": {
          "base_uri": "https://localhost:8080/"
        },
        "id": "HScMjBx_uKuJ",
        "outputId": "7e31b973-d6c2-4919-9165-5f28944c5e85"
      },
      "source": [
        "# compiling the model and fiiting on train images\n",
        "\n",
        "\n",
        "teju_history = teju_model.fit( training_x , \n",
        "                              training_y , \n",
        "                              epochs = 100 , \n",
        "                              batch_size = 512 , \n",
        "                              validation_data = (validation_x , validation_y))"
      ],
      "execution_count": 42,
      "outputs": [
        {
          "output_type": "stream",
          "text": [
            "Epoch 1/100\n",
            "51/51 [==============================] - 56s 140ms/step - loss: 2.6013 - accuracy: 0.1833 - val_loss: 1.8710 - val_accuracy: 0.2477\n",
            "Epoch 2/100\n",
            "51/51 [==============================] - 4s 82ms/step - loss: 2.1010 - accuracy: 0.1909 - val_loss: 1.8439 - val_accuracy: 0.2477\n",
            "Epoch 3/100\n",
            "51/51 [==============================] - 4s 82ms/step - loss: 1.9346 - accuracy: 0.2060 - val_loss: 1.8383 - val_accuracy: 0.2477\n",
            "Epoch 4/100\n",
            "51/51 [==============================] - 4s 83ms/step - loss: 1.8713 - accuracy: 0.2202 - val_loss: 1.8266 - val_accuracy: 0.2477\n",
            "Epoch 5/100\n",
            "51/51 [==============================] - 4s 83ms/step - loss: 1.8386 - accuracy: 0.2276 - val_loss: 1.8191 - val_accuracy: 0.2477\n",
            "Epoch 6/100\n",
            "51/51 [==============================] - 4s 86ms/step - loss: 1.8145 - accuracy: 0.2398 - val_loss: 1.8214 - val_accuracy: 0.2477\n",
            "Epoch 7/100\n",
            "51/51 [==============================] - 4s 84ms/step - loss: 1.7977 - accuracy: 0.2476 - val_loss: 1.8192 - val_accuracy: 0.2477\n",
            "Epoch 8/100\n",
            "51/51 [==============================] - 4s 84ms/step - loss: 1.7869 - accuracy: 0.2611 - val_loss: 1.8147 - val_accuracy: 0.2477\n",
            "Epoch 9/100\n",
            "51/51 [==============================] - 4s 84ms/step - loss: 1.7524 - accuracy: 0.2799 - val_loss: 1.9567 - val_accuracy: 0.2477\n",
            "Epoch 10/100\n",
            "51/51 [==============================] - 4s 84ms/step - loss: 1.6954 - accuracy: 0.3211 - val_loss: 2.1594 - val_accuracy: 0.2477\n",
            "Epoch 11/100\n",
            "51/51 [==============================] - 4s 84ms/step - loss: 1.6470 - accuracy: 0.3466 - val_loss: 2.3067 - val_accuracy: 0.2474\n",
            "Epoch 12/100\n",
            "51/51 [==============================] - 4s 84ms/step - loss: 1.5998 - accuracy: 0.3659 - val_loss: 1.8162 - val_accuracy: 0.2801\n",
            "Epoch 13/100\n",
            "51/51 [==============================] - 4s 85ms/step - loss: 1.5631 - accuracy: 0.3860 - val_loss: 1.7367 - val_accuracy: 0.3122\n",
            "Epoch 14/100\n",
            "51/51 [==============================] - 4s 85ms/step - loss: 1.5208 - accuracy: 0.4094 - val_loss: 1.6272 - val_accuracy: 0.3537\n",
            "Epoch 15/100\n",
            "51/51 [==============================] - 4s 84ms/step - loss: 1.4884 - accuracy: 0.4184 - val_loss: 1.5047 - val_accuracy: 0.4111\n",
            "Epoch 16/100\n",
            "51/51 [==============================] - 4s 85ms/step - loss: 1.4650 - accuracy: 0.4239 - val_loss: 1.4500 - val_accuracy: 0.4331\n",
            "Epoch 17/100\n",
            "51/51 [==============================] - 4s 85ms/step - loss: 1.4338 - accuracy: 0.4419 - val_loss: 1.4430 - val_accuracy: 0.4303\n",
            "Epoch 18/100\n",
            "51/51 [==============================] - 4s 85ms/step - loss: 1.4079 - accuracy: 0.4552 - val_loss: 1.4294 - val_accuracy: 0.4286\n",
            "Epoch 19/100\n",
            "51/51 [==============================] - 4s 84ms/step - loss: 1.3853 - accuracy: 0.4743 - val_loss: 1.5046 - val_accuracy: 0.4314\n",
            "Epoch 20/100\n",
            "51/51 [==============================] - 4s 84ms/step - loss: 1.3662 - accuracy: 0.4799 - val_loss: 1.3381 - val_accuracy: 0.4728\n",
            "Epoch 21/100\n",
            "51/51 [==============================] - 4s 84ms/step - loss: 1.3496 - accuracy: 0.4812 - val_loss: 1.3591 - val_accuracy: 0.4631\n",
            "Epoch 22/100\n",
            "51/51 [==============================] - 4s 84ms/step - loss: 1.3293 - accuracy: 0.4937 - val_loss: 1.3442 - val_accuracy: 0.4672\n",
            "Epoch 23/100\n",
            "51/51 [==============================] - 4s 87ms/step - loss: 1.3010 - accuracy: 0.5023 - val_loss: 1.3621 - val_accuracy: 0.4449\n",
            "Epoch 24/100\n",
            "51/51 [==============================] - 4s 84ms/step - loss: 1.3004 - accuracy: 0.5063 - val_loss: 1.2887 - val_accuracy: 0.4920\n",
            "Epoch 25/100\n",
            "51/51 [==============================] - 4s 84ms/step - loss: 1.2713 - accuracy: 0.5146 - val_loss: 1.2772 - val_accuracy: 0.5087\n",
            "Epoch 26/100\n",
            "51/51 [==============================] - 4s 87ms/step - loss: 1.2497 - accuracy: 0.5222 - val_loss: 1.2250 - val_accuracy: 0.5286\n",
            "Epoch 27/100\n",
            "51/51 [==============================] - 4s 84ms/step - loss: 1.2424 - accuracy: 0.5288 - val_loss: 1.2598 - val_accuracy: 0.5070\n",
            "Epoch 28/100\n",
            "51/51 [==============================] - 4s 84ms/step - loss: 1.2507 - accuracy: 0.5257 - val_loss: 1.2348 - val_accuracy: 0.5181\n",
            "Epoch 29/100\n",
            "51/51 [==============================] - 4s 84ms/step - loss: 1.2286 - accuracy: 0.5359 - val_loss: 1.2402 - val_accuracy: 0.5178\n",
            "Epoch 30/100\n",
            "51/51 [==============================] - 4s 84ms/step - loss: 1.2105 - accuracy: 0.5436 - val_loss: 1.2475 - val_accuracy: 0.5084\n",
            "Epoch 31/100\n",
            "51/51 [==============================] - 4s 84ms/step - loss: 1.2110 - accuracy: 0.5472 - val_loss: 1.3161 - val_accuracy: 0.4850\n",
            "Epoch 32/100\n",
            "51/51 [==============================] - 4s 84ms/step - loss: 1.1889 - accuracy: 0.5494 - val_loss: 1.2159 - val_accuracy: 0.5314\n",
            "Epoch 33/100\n",
            "51/51 [==============================] - 4s 84ms/step - loss: 1.1933 - accuracy: 0.5546 - val_loss: 1.2845 - val_accuracy: 0.5014\n",
            "Epoch 34/100\n",
            "51/51 [==============================] - 4s 84ms/step - loss: 1.1744 - accuracy: 0.5644 - val_loss: 1.2333 - val_accuracy: 0.5282\n",
            "Epoch 35/100\n",
            "51/51 [==============================] - 4s 84ms/step - loss: 1.1666 - accuracy: 0.5644 - val_loss: 1.2389 - val_accuracy: 0.5153\n",
            "Epoch 36/100\n",
            "51/51 [==============================] - 4s 84ms/step - loss: 1.1603 - accuracy: 0.5657 - val_loss: 1.1849 - val_accuracy: 0.5470\n",
            "Epoch 37/100\n",
            "51/51 [==============================] - 4s 84ms/step - loss: 1.1481 - accuracy: 0.5693 - val_loss: 1.2056 - val_accuracy: 0.5334\n",
            "Epoch 38/100\n",
            "51/51 [==============================] - 4s 84ms/step - loss: 1.1384 - accuracy: 0.5719 - val_loss: 1.1614 - val_accuracy: 0.5533\n",
            "Epoch 39/100\n",
            "51/51 [==============================] - 4s 84ms/step - loss: 1.1401 - accuracy: 0.5766 - val_loss: 1.1386 - val_accuracy: 0.5627\n",
            "Epoch 40/100\n",
            "51/51 [==============================] - 4s 84ms/step - loss: 1.1311 - accuracy: 0.5790 - val_loss: 1.1788 - val_accuracy: 0.5408\n",
            "Epoch 41/100\n",
            "51/51 [==============================] - 4s 84ms/step - loss: 1.1258 - accuracy: 0.5833 - val_loss: 1.1566 - val_accuracy: 0.5460\n",
            "Epoch 42/100\n",
            "51/51 [==============================] - 4s 84ms/step - loss: 1.1117 - accuracy: 0.5838 - val_loss: 1.1632 - val_accuracy: 0.5453\n",
            "Epoch 43/100\n",
            "51/51 [==============================] - 4s 85ms/step - loss: 1.1135 - accuracy: 0.5856 - val_loss: 1.1860 - val_accuracy: 0.5408\n",
            "Epoch 44/100\n",
            "51/51 [==============================] - 4s 85ms/step - loss: 1.0991 - accuracy: 0.5903 - val_loss: 1.1563 - val_accuracy: 0.5662\n",
            "Epoch 45/100\n",
            "51/51 [==============================] - 4s 85ms/step - loss: 1.0943 - accuracy: 0.5908 - val_loss: 1.2863 - val_accuracy: 0.4941\n",
            "Epoch 46/100\n",
            "51/51 [==============================] - 4s 85ms/step - loss: 1.0888 - accuracy: 0.5957 - val_loss: 1.1547 - val_accuracy: 0.5718\n",
            "Epoch 47/100\n",
            "51/51 [==============================] - 4s 85ms/step - loss: 1.0830 - accuracy: 0.5967 - val_loss: 1.1062 - val_accuracy: 0.5805\n",
            "Epoch 48/100\n",
            "51/51 [==============================] - 4s 85ms/step - loss: 1.0732 - accuracy: 0.6031 - val_loss: 1.1445 - val_accuracy: 0.5679\n",
            "Epoch 49/100\n",
            "51/51 [==============================] - 4s 85ms/step - loss: 1.0632 - accuracy: 0.6106 - val_loss: 1.1196 - val_accuracy: 0.5763\n",
            "Epoch 50/100\n",
            "51/51 [==============================] - 4s 85ms/step - loss: 1.0582 - accuracy: 0.6122 - val_loss: 1.1450 - val_accuracy: 0.5645\n",
            "Epoch 51/100\n",
            "51/51 [==============================] - 4s 84ms/step - loss: 1.0594 - accuracy: 0.6095 - val_loss: 1.1023 - val_accuracy: 0.5774\n",
            "Epoch 52/100\n",
            "51/51 [==============================] - 4s 84ms/step - loss: 1.0543 - accuracy: 0.6151 - val_loss: 1.1206 - val_accuracy: 0.5721\n",
            "Epoch 53/100\n",
            "51/51 [==============================] - 4s 84ms/step - loss: 1.0499 - accuracy: 0.6118 - val_loss: 1.1102 - val_accuracy: 0.5732\n",
            "Epoch 54/100\n",
            "51/51 [==============================] - 4s 84ms/step - loss: 1.0488 - accuracy: 0.6147 - val_loss: 1.1369 - val_accuracy: 0.5728\n",
            "Epoch 55/100\n",
            "51/51 [==============================] - 4s 84ms/step - loss: 1.0252 - accuracy: 0.6220 - val_loss: 1.1315 - val_accuracy: 0.5718\n",
            "Epoch 56/100\n",
            "51/51 [==============================] - 4s 84ms/step - loss: 1.0285 - accuracy: 0.6200 - val_loss: 1.1282 - val_accuracy: 0.5753\n",
            "Epoch 57/100\n",
            "51/51 [==============================] - 4s 84ms/step - loss: 1.0180 - accuracy: 0.6268 - val_loss: 1.1260 - val_accuracy: 0.5826\n",
            "Epoch 58/100\n",
            "51/51 [==============================] - 4s 84ms/step - loss: 1.0080 - accuracy: 0.6277 - val_loss: 1.1100 - val_accuracy: 0.5812\n",
            "Epoch 59/100\n",
            "51/51 [==============================] - 4s 84ms/step - loss: 0.9937 - accuracy: 0.6325 - val_loss: 1.0889 - val_accuracy: 0.5899\n",
            "Epoch 60/100\n",
            "51/51 [==============================] - 4s 84ms/step - loss: 0.9933 - accuracy: 0.6353 - val_loss: 1.1364 - val_accuracy: 0.5686\n",
            "Epoch 61/100\n",
            "51/51 [==============================] - 4s 84ms/step - loss: 0.9882 - accuracy: 0.6354 - val_loss: 1.1113 - val_accuracy: 0.5808\n",
            "Epoch 62/100\n",
            "51/51 [==============================] - 4s 84ms/step - loss: 0.9916 - accuracy: 0.6301 - val_loss: 1.1343 - val_accuracy: 0.5711\n",
            "Epoch 63/100\n",
            "51/51 [==============================] - 4s 84ms/step - loss: 0.9909 - accuracy: 0.6344 - val_loss: 1.1071 - val_accuracy: 0.5739\n",
            "Epoch 64/100\n",
            "51/51 [==============================] - 4s 84ms/step - loss: 0.9700 - accuracy: 0.6377 - val_loss: 1.0790 - val_accuracy: 0.5868\n",
            "Epoch 65/100\n",
            "51/51 [==============================] - 4s 84ms/step - loss: 0.9800 - accuracy: 0.6411 - val_loss: 1.0878 - val_accuracy: 0.5861\n",
            "Epoch 66/100\n",
            "51/51 [==============================] - 4s 84ms/step - loss: 0.9776 - accuracy: 0.6397 - val_loss: 1.0638 - val_accuracy: 0.5986\n",
            "Epoch 67/100\n",
            "51/51 [==============================] - 4s 84ms/step - loss: 0.9537 - accuracy: 0.6443 - val_loss: 1.1167 - val_accuracy: 0.5822\n",
            "Epoch 68/100\n",
            "51/51 [==============================] - 4s 84ms/step - loss: 0.9763 - accuracy: 0.6387 - val_loss: 1.1556 - val_accuracy: 0.5672\n",
            "Epoch 69/100\n",
            "51/51 [==============================] - 4s 84ms/step - loss: 0.9683 - accuracy: 0.6481 - val_loss: 1.1019 - val_accuracy: 0.5916\n",
            "Epoch 70/100\n",
            "51/51 [==============================] - 4s 85ms/step - loss: 0.9656 - accuracy: 0.6442 - val_loss: 1.0689 - val_accuracy: 0.5955\n",
            "Epoch 71/100\n",
            "51/51 [==============================] - 4s 85ms/step - loss: 0.9484 - accuracy: 0.6508 - val_loss: 1.0767 - val_accuracy: 0.6000\n",
            "Epoch 72/100\n",
            "51/51 [==============================] - 4s 85ms/step - loss: 0.9419 - accuracy: 0.6586 - val_loss: 1.0900 - val_accuracy: 0.5885\n",
            "Epoch 73/100\n",
            "51/51 [==============================] - 4s 85ms/step - loss: 0.9417 - accuracy: 0.6599 - val_loss: 1.0838 - val_accuracy: 0.6010\n",
            "Epoch 74/100\n",
            "51/51 [==============================] - 4s 84ms/step - loss: 0.9292 - accuracy: 0.6555 - val_loss: 1.0760 - val_accuracy: 0.5941\n",
            "Epoch 75/100\n",
            "51/51 [==============================] - 4s 84ms/step - loss: 0.9313 - accuracy: 0.6585 - val_loss: 1.1490 - val_accuracy: 0.5787\n",
            "Epoch 76/100\n",
            "51/51 [==============================] - 4s 84ms/step - loss: 0.9345 - accuracy: 0.6580 - val_loss: 1.0945 - val_accuracy: 0.5934\n",
            "Epoch 77/100\n",
            "51/51 [==============================] - 4s 84ms/step - loss: 0.9178 - accuracy: 0.6640 - val_loss: 1.1166 - val_accuracy: 0.5808\n",
            "Epoch 78/100\n",
            "51/51 [==============================] - 4s 84ms/step - loss: 0.9202 - accuracy: 0.6619 - val_loss: 1.1049 - val_accuracy: 0.5864\n",
            "Epoch 79/100\n",
            "51/51 [==============================] - 4s 84ms/step - loss: 0.9252 - accuracy: 0.6651 - val_loss: 1.1086 - val_accuracy: 0.5979\n",
            "Epoch 80/100\n",
            "51/51 [==============================] - 4s 84ms/step - loss: 0.9175 - accuracy: 0.6661 - val_loss: 1.1603 - val_accuracy: 0.5840\n",
            "Epoch 81/100\n",
            "51/51 [==============================] - 4s 84ms/step - loss: 0.9117 - accuracy: 0.6642 - val_loss: 1.0845 - val_accuracy: 0.5955\n",
            "Epoch 82/100\n",
            "51/51 [==============================] - 4s 84ms/step - loss: 0.9051 - accuracy: 0.6671 - val_loss: 1.1118 - val_accuracy: 0.5801\n",
            "Epoch 83/100\n",
            "51/51 [==============================] - 4s 84ms/step - loss: 0.9148 - accuracy: 0.6641 - val_loss: 1.1353 - val_accuracy: 0.5868\n",
            "Epoch 84/100\n",
            "51/51 [==============================] - 4s 84ms/step - loss: 0.9020 - accuracy: 0.6735 - val_loss: 1.1020 - val_accuracy: 0.6017\n",
            "Epoch 85/100\n",
            "51/51 [==============================] - 4s 87ms/step - loss: 0.8896 - accuracy: 0.6764 - val_loss: 1.1011 - val_accuracy: 0.5955\n",
            "Epoch 86/100\n",
            "51/51 [==============================] - 4s 84ms/step - loss: 0.9030 - accuracy: 0.6685 - val_loss: 1.1299 - val_accuracy: 0.5854\n",
            "Epoch 87/100\n",
            "51/51 [==============================] - 4s 84ms/step - loss: 0.8902 - accuracy: 0.6787 - val_loss: 1.0952 - val_accuracy: 0.5889\n",
            "Epoch 88/100\n",
            "51/51 [==============================] - 4s 85ms/step - loss: 0.8796 - accuracy: 0.6838 - val_loss: 1.0630 - val_accuracy: 0.6049\n",
            "Epoch 89/100\n",
            "51/51 [==============================] - 4s 85ms/step - loss: 0.8845 - accuracy: 0.6745 - val_loss: 1.0956 - val_accuracy: 0.5990\n",
            "Epoch 90/100\n",
            "51/51 [==============================] - 4s 85ms/step - loss: 0.8847 - accuracy: 0.6789 - val_loss: 1.0792 - val_accuracy: 0.6073\n",
            "Epoch 91/100\n",
            "51/51 [==============================] - 4s 85ms/step - loss: 0.8818 - accuracy: 0.6812 - val_loss: 1.0651 - val_accuracy: 0.6192\n",
            "Epoch 92/100\n",
            "51/51 [==============================] - 4s 84ms/step - loss: 0.8774 - accuracy: 0.6812 - val_loss: 1.1718 - val_accuracy: 0.5707\n",
            "Epoch 93/100\n",
            "51/51 [==============================] - 4s 84ms/step - loss: 0.8731 - accuracy: 0.6820 - val_loss: 1.0898 - val_accuracy: 0.5951\n",
            "Epoch 94/100\n",
            "51/51 [==============================] - 4s 84ms/step - loss: 0.8748 - accuracy: 0.6746 - val_loss: 1.0700 - val_accuracy: 0.6108\n",
            "Epoch 95/100\n",
            "51/51 [==============================] - 4s 84ms/step - loss: 0.8605 - accuracy: 0.6856 - val_loss: 1.0758 - val_accuracy: 0.6125\n",
            "Epoch 96/100\n",
            "51/51 [==============================] - 4s 85ms/step - loss: 0.8760 - accuracy: 0.6832 - val_loss: 1.0656 - val_accuracy: 0.6108\n",
            "Epoch 97/100\n",
            "51/51 [==============================] - 4s 85ms/step - loss: 0.8617 - accuracy: 0.6885 - val_loss: 1.0930 - val_accuracy: 0.6084\n",
            "Epoch 98/100\n",
            "51/51 [==============================] - 4s 85ms/step - loss: 0.8516 - accuracy: 0.6870 - val_loss: 1.0630 - val_accuracy: 0.6070\n",
            "Epoch 99/100\n",
            "51/51 [==============================] - 4s 85ms/step - loss: 0.8481 - accuracy: 0.6863 - val_loss: 1.0969 - val_accuracy: 0.6021\n",
            "Epoch 100/100\n",
            "51/51 [==============================] - 4s 85ms/step - loss: 0.8644 - accuracy: 0.6867 - val_loss: 1.0768 - val_accuracy: 0.6129\n"
          ],
          "name": "stdout"
        }
      ]
    },
    {
      "cell_type": "code",
      "metadata": {
        "colab": {
          "base_uri": "https://localhost:8080/",
          "height": 295
        },
        "id": "TXl5oetI028w",
        "outputId": "134c281e-a55e-424c-be52-ee64a3a7d50b"
      },
      "source": [
        "# plotting training and validation loss\n",
        "\n",
        "loss = teju_history.history[\"loss\"]\n",
        "val_loss = teju_history.history[\"val_loss\"]\n",
        "\n",
        "epochs = range(1 , len(loss)+1)\n",
        "\n",
        "plt.plot(epochs , loss , \"r\" , label=\"traning loss\")\n",
        "plt.plot(epochs , val_loss , \"b\" , label=\"validation loss\")\n",
        "plt.title(\"traning and validation loss\")\n",
        "plt.xlabel(\"epochs\")\n",
        "plt.ylabel(\"loss\")\n",
        "plt.legend()\n",
        "\n",
        "plt.show()"
      ],
      "execution_count": 44,
      "outputs": [
        {
          "output_type": "display_data",
          "data": {
            "image/png": "[encoded data removed]",
            "text/plain": [
              "<Figure size 432x288 with 1 Axes>"
            ]
          },
          "metadata": {
            "tags": [],
            "needs_background": "light"
          }
        }
      ]
    },
    {
      "cell_type": "code",
      "metadata": {
        "id": "wN55LbwBIrjV"
      },
      "source": [
        ""
      ],
      "execution_count": 43,
      "outputs": []
    },
    {
      "cell_type": "code",
      "metadata": {
        "id": "i6tqkjX2HZw5"
      },
      "source": [
        "print(teju_history.history.keys())"
      ],
      "execution_count": null,
      "outputs": []
    },
    {
      "cell_type": "code",
      "metadata": {
        "id": "HfQCpMmq4iMu"
      },
      "source": [
        "# seed = 2\n",
        "# x = np.array([ 3, 5, 4,6,7 ,8 ,8,9 , 12 ,34 , 6 ,789 , 23 ,24,45 ])\n",
        "# y = x.copy()\n",
        "# np.random.seed(seed)\n",
        "# np.random.shuffle(x)\n",
        "# np.random.seed(seed)\n",
        "# np.random.shuffle(y)"
      ],
      "execution_count": 46,
      "outputs": []
    },
    {
      "cell_type": "code",
      "metadata": {
        "id": "ytF5aVfdiRNj"
      },
      "source": [
        ""
      ],
      "execution_count": null,
      "outputs": []
    }
  ]
}